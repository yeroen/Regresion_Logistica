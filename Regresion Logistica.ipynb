{
 "cells": [
  {
   "cell_type": "code",
   "execution_count": 2,
   "metadata": {},
   "outputs": [],
   "source": [
    "import pandas as pd\n",
    "import numpy as np\n",
    "import matplotlib.pyplot as plt"
   ]
  },
  {
   "cell_type": "code",
   "execution_count": 214,
   "metadata": {},
   "outputs": [],
   "source": [
    "archivos = [\"weatherAUS\", \"titanic_test\", \"gender_submission\"]"
   ]
  },
  {
   "cell_type": "code",
   "execution_count": 4,
   "metadata": {},
   "outputs": [],
   "source": [
    "def Leer_Datos(filename, sp ='\\t'):\n",
    "    data = pd.read_csv(filename+\".csv\", sep = sp)\n",
    "    return np.array(data.iloc[:,:])"
   ]
  },
  {
   "cell_type": "code",
   "execution_count": 161,
   "metadata": {},
   "outputs": [],
   "source": [
    "def Normalizar_Datos(datos):\n",
    "    for i in range (datos.shape[1]):\n",
    "        media = np.mean(datos[:,i])       \n",
    "        desvi =np.std(datos[:,i])\n",
    "        datos[:,i] = (datos[:,i] - media)/desvi\n",
    "    return datos"
   ]
  },
  {
   "cell_type": "code",
   "execution_count": 6,
   "metadata": {},
   "outputs": [],
   "source": [
    "def Sigmoidal(X, theta):\n",
    "    aux = X.dot(theta.T)\n",
    "    return 1/(1+ np.exp(-aux))"
   ]
  },
  {
   "cell_type": "code",
   "execution_count": 7,
   "metadata": {},
   "outputs": [],
   "source": [
    "def Calcular_Funcion_Costo(X, y, theta): #J(theta) = -1/m[ SUM( y* log(h(x)) + (1-y)*log(1-h(x)))\n",
    "    h = Sigmoidal(X, theta)\n",
    "    return -1/X.shape[0] * ( np.sum( y.dot(np.log(h)) + (1-y).dot( np.log(1-h))) )"
   ]
  },
  {
   "cell_type": "code",
   "execution_count": 8,
   "metadata": {},
   "outputs": [],
   "source": [
    "def Calcular_Gradiente(X, y, theta): #deriv = 1/m[ SUM (h(x)-y)x ]\n",
    "    h = Sigmoidal(X, theta) - y\n",
    "    return np.dot(h, X) / X.shape[0]"
   ]
  },
  {
   "cell_type": "code",
   "execution_count": 9,
   "metadata": {},
   "outputs": [],
   "source": [
    "def Gradiente_Descendiente(X, y, theta, num_it, tasa_apren):\n",
    "    costos = np.zeros(num_it)\n",
    "    for it in range(0, num_it):\n",
    "        costos[it] = Calcular_Funcion_Costo(X, y, theta)\n",
    "        theta = theta - (tasa_apren* Calcular_Gradiente(X, y, theta))\n",
    "    return theta, costos"
   ]
  },
  {
   "cell_type": "code",
   "execution_count": 194,
   "metadata": {},
   "outputs": [],
   "source": [
    "def Calcular_Accuracy(X, y, theta):\n",
    "    htxP = Sigmoidal(X, theta) > 0.5\n",
    "    n_1s = np.logical_xor(np.logical_not(htxP), y)\n",
    "    return np.sum(n_1s) / y.shape[0]"
   ]
  },
  {
   "cell_type": "code",
   "execution_count": 195,
   "metadata": {},
   "outputs": [],
   "source": [
    "def PromedioAccuracy(test, theta, k):\n",
    "    accu = np.zeros(k)\n",
    "    for i in range(0,k):\n",
    "        accu[i] = Calcular_Accuracy(test[i][:,:-1], test[i][:,-1], theta)\n",
    "    return accu.mean()"
   ]
  },
  {
   "cell_type": "code",
   "execution_count": 76,
   "metadata": {},
   "outputs": [],
   "source": [
    "def Crear_k_folds(data, k):\n",
    "    folds = []\n",
    "    num_1 = np.count_nonzero(data[:,-1]) #numero clase 1\n",
    "    num_0 = data.shape[0] - num_1 #numero clase 0\n",
    "    new_num_1 = int(num_1/k) #Para conservar proporcion\n",
    "    new_num_0 = int(num_0/k)\n",
    "    print(\"0: \" , new_num_0)\n",
    "    print(\"1: \" , new_num_1)\n",
    "    fold0 = np.array_split(data[0:num_0], k)\n",
    "    fold1 = np.array_split(data[num_0:], k)\n",
    "    #print (fold0)\n",
    "    for i in range (0,k):\n",
    "        folds.append(np.vstack((fold0[i],fold1[i])))\n",
    "    return folds"
   ]
  },
  {
   "cell_type": "markdown",
   "metadata": {},
   "source": [
    "# Experiemto 1"
   ]
  },
  {
   "cell_type": "code",
   "execution_count": 177,
   "metadata": {},
   "outputs": [
    {
     "name": "stdout",
     "output_type": "stream",
     "text": [
      "0:  36344\n",
      "1:  10351\n"
     ]
    }
   ],
   "source": [
    "#Leer solo los datos necesarios\n",
    "weatherAUS = Leer_Datos(archivos[0],',')\n",
    "aux = np.c_[weatherAUS[:,2:3], weatherAUS[:,3:4],weatherAUS[:,-3:-2],weatherAUS[:,-1:]]\n",
    "\n",
    "#quitamos los datos nulos\n",
    "aux = pd.DataFrame(aux).dropna()\n",
    "\n",
    "#dividimos para normalizar y normalizamos\n",
    "aux1 = aux.to_numpy()[:,:2]\n",
    "aux2 = aux.to_numpy()[:,-2:]\n",
    "\n",
    "aux1 = Normalizar_Datos(aux1)\n",
    "\n",
    "#reemplazamos yes/no por 1/0\n",
    "aux2 = pd.DataFrame(aux2).replace({\"No\": 0, \"Yes\": 1})\n",
    "\n",
    "#juntamos la data\n",
    "weatherAUS = np.array(np.c_[aux1,aux2], dtype = \"float64\")\n",
    "\n",
    "#creamos los folks\n",
    "fold_weatherAUS = Crear_k_folds(weatherAUS, 3)"
   ]
  },
  {
   "cell_type": "code",
   "execution_count": 229,
   "metadata": {},
   "outputs": [
    {
     "name": "stdout",
     "output_type": "stream",
     "text": [
      "0:  68\n",
      "1:  42\n"
     ]
    }
   ],
   "source": [
    "#Leer solo los datos necesarios\n",
    "titanic = Leer_Datos(archivos[1],',')\n",
    "gender = Leer_Datos(archivos[2],',')\n",
    "aux = np.c_[titanic[:,3:4], titanic[:,4:5],titanic[:,-3:-2],gender[:,-1:]]\n",
    "\n",
    "#quitamos los datos nulos\n",
    "aux = pd.DataFrame(aux).dropna()\n",
    "\n",
    "#dividimos para normalizar y normalizamos\n",
    "aux1 = aux.to_numpy()[:,0:1]\n",
    "aux2 = aux.to_numpy()[:,1:3]\n",
    "aux3 = aux.to_numpy()[:,-1:]\n",
    "\n",
    "aux2 = Normalizar_Datos(aux2)\n",
    "\n",
    "#reemplazamos female/male por 1/0\n",
    "aux1 = pd.DataFrame(aux1).replace({\"male\": 0, \"female\": 1})\n",
    "\n",
    "#juntamos la data\n",
    "titanic = np.array(np.c_[aux1,aux2,aux3], dtype = \"float64\")\n",
    "\n",
    "#creamos los folks\n",
    "fold_titanic = Crear_k_folds(titanic, 3)"
   ]
  },
  {
   "cell_type": "code",
   "execution_count": 170,
   "metadata": {},
   "outputs": [],
   "source": [
    "def CalculoParametros(folds:[], k:int, iteraciones, alpha):\n",
    "    arr_costo = []\n",
    "    arr_theta = []\n",
    "    arr_test = []\n",
    "    for test_i in range(0, k):\n",
    "        test = folds[test_i] \n",
    "        train = np.zeros( (0,np.size(folds[0][0])) )\n",
    "        for train_i in range (0, k):         \n",
    "            if (train_i == test_i):\n",
    "                continue\n",
    "            else:\n",
    "                train = np.vstack( (train,folds[train_i]) )\n",
    "            \n",
    "        costo = []\n",
    "        X_train = train[:,:-1]\n",
    "        y_train = train[:,-1]\n",
    "        theta = np.zeros( (np.size(X_train[0])) )\n",
    "    #s = Sigmoidal(X_train, theta)\n",
    "    #c = Calcular_Funcion_Costo(X_train, y_train, theta)\n",
    "        theta, costo = Gradiente_Descendiente(X_train, y_train, theta, iteraciones, alpha)\n",
    "        arr_theta.append(theta)\n",
    "        arr_costo.append(costo)\n",
    "        arr_test.append(test)\n",
    "      \n",
    "    return theta, arr_costo, arr_test"
   ]
  },
  {
   "cell_type": "code",
   "execution_count": 171,
   "metadata": {},
   "outputs": [],
   "source": [
    "def BusquedaParametros(folds:[], k):\n",
    "    alpha = [0.01, 0.05, 0.1, 0.2, 0.3, 0.4]\n",
    "    iteraciones = range(500,3501,500)\n",
    "    arr_accu = np.empty( (len(alpha),len(iteraciones) ))\n",
    "    for tasa in range(0,len(alpha)):\n",
    "        for it in range(0, len(iteraciones)):\n",
    "            theta, dummy, test = CalculoParametros(folds, k, iteraciones[it], alpha[tasa])\n",
    "            arr_accu[tasa,it] = PromedioAccuracy(test, theta, k)\n",
    "            \n",
    "    return pd.DataFrame(arr_accu, index = alpha, columns = iteraciones)"
   ]
  },
  {
   "cell_type": "code",
   "execution_count": 193,
   "metadata": {},
   "outputs": [
    {
     "data": {
      "text/html": [
       "<div>\n",
       "<style scoped>\n",
       "    .dataframe tbody tr th:only-of-type {\n",
       "        vertical-align: middle;\n",
       "    }\n",
       "\n",
       "    .dataframe tbody tr th {\n",
       "        vertical-align: top;\n",
       "    }\n",
       "\n",
       "    .dataframe thead th {\n",
       "        text-align: right;\n",
       "    }\n",
       "</style>\n",
       "<table border=\"1\" class=\"dataframe\">\n",
       "  <thead>\n",
       "    <tr style=\"text-align: right;\">\n",
       "      <th></th>\n",
       "      <th>500</th>\n",
       "      <th>1000</th>\n",
       "      <th>1500</th>\n",
       "      <th>2000</th>\n",
       "      <th>2500</th>\n",
       "      <th>3000</th>\n",
       "      <th>3500</th>\n",
       "    </tr>\n",
       "  </thead>\n",
       "  <tbody>\n",
       "    <tr>\n",
       "      <th>0.01</th>\n",
       "      <td>0.589709</td>\n",
       "      <td>0.601245</td>\n",
       "      <td>0.606627</td>\n",
       "      <td>0.609026</td>\n",
       "      <td>0.611032</td>\n",
       "      <td>0.611824</td>\n",
       "      <td>0.612959</td>\n",
       "    </tr>\n",
       "    <tr>\n",
       "      <th>0.05</th>\n",
       "      <td>0.611039</td>\n",
       "      <td>0.614729</td>\n",
       "      <td>0.615829</td>\n",
       "      <td>0.615657</td>\n",
       "      <td>0.615650</td>\n",
       "      <td>0.615807</td>\n",
       "      <td>0.615779</td>\n",
       "    </tr>\n",
       "    <tr>\n",
       "      <th>0.10</th>\n",
       "      <td>0.614708</td>\n",
       "      <td>0.615657</td>\n",
       "      <td>0.615807</td>\n",
       "      <td>0.615800</td>\n",
       "      <td>0.615772</td>\n",
       "      <td>0.615814</td>\n",
       "      <td>0.615772</td>\n",
       "    </tr>\n",
       "    <tr>\n",
       "      <th>0.20</th>\n",
       "      <td>0.615672</td>\n",
       "      <td>0.615800</td>\n",
       "      <td>0.615814</td>\n",
       "      <td>0.615772</td>\n",
       "      <td>0.615772</td>\n",
       "      <td>0.615772</td>\n",
       "      <td>0.615772</td>\n",
       "    </tr>\n",
       "    <tr>\n",
       "      <th>0.30</th>\n",
       "      <td>0.615807</td>\n",
       "      <td>0.615814</td>\n",
       "      <td>0.615772</td>\n",
       "      <td>0.615772</td>\n",
       "      <td>0.615772</td>\n",
       "      <td>0.615772</td>\n",
       "      <td>0.615772</td>\n",
       "    </tr>\n",
       "    <tr>\n",
       "      <th>0.40</th>\n",
       "      <td>0.615800</td>\n",
       "      <td>0.615772</td>\n",
       "      <td>0.615772</td>\n",
       "      <td>0.615772</td>\n",
       "      <td>0.615772</td>\n",
       "      <td>0.615772</td>\n",
       "      <td>0.615772</td>\n",
       "    </tr>\n",
       "  </tbody>\n",
       "</table>\n",
       "</div>"
      ],
      "text/plain": [
       "           500      1000      1500      2000      2500      3000      3500\n",
       "0.01  0.589709  0.601245  0.606627  0.609026  0.611032  0.611824  0.612959\n",
       "0.05  0.611039  0.614729  0.615829  0.615657  0.615650  0.615807  0.615779\n",
       "0.10  0.614708  0.615657  0.615807  0.615800  0.615772  0.615814  0.615772\n",
       "0.20  0.615672  0.615800  0.615814  0.615772  0.615772  0.615772  0.615772\n",
       "0.30  0.615807  0.615814  0.615772  0.615772  0.615772  0.615772  0.615772\n",
       "0.40  0.615800  0.615772  0.615772  0.615772  0.615772  0.615772  0.615772"
      ]
     },
     "execution_count": 193,
     "metadata": {},
     "output_type": "execute_result"
    }
   ],
   "source": [
    "BusquedaParametros(fold_weatherAUS, 3)"
   ]
  },
  {
   "cell_type": "code",
   "execution_count": 230,
   "metadata": {},
   "outputs": [
    {
     "data": {
      "text/html": [
       "<div>\n",
       "<style scoped>\n",
       "    .dataframe tbody tr th:only-of-type {\n",
       "        vertical-align: middle;\n",
       "    }\n",
       "\n",
       "    .dataframe tbody tr th {\n",
       "        vertical-align: top;\n",
       "    }\n",
       "\n",
       "    .dataframe thead th {\n",
       "        text-align: right;\n",
       "    }\n",
       "</style>\n",
       "<table border=\"1\" class=\"dataframe\">\n",
       "  <thead>\n",
       "    <tr style=\"text-align: right;\">\n",
       "      <th></th>\n",
       "      <th>500</th>\n",
       "      <th>1000</th>\n",
       "      <th>1500</th>\n",
       "      <th>2000</th>\n",
       "      <th>2500</th>\n",
       "      <th>3000</th>\n",
       "      <th>3500</th>\n",
       "    </tr>\n",
       "  </thead>\n",
       "  <tbody>\n",
       "    <tr>\n",
       "      <th>0.01</th>\n",
       "      <td>0.873109</td>\n",
       "      <td>0.870106</td>\n",
       "      <td>0.870106</td>\n",
       "      <td>0.870106</td>\n",
       "      <td>0.873137</td>\n",
       "      <td>0.873137</td>\n",
       "      <td>0.876140</td>\n",
       "    </tr>\n",
       "    <tr>\n",
       "      <th>0.05</th>\n",
       "      <td>0.873137</td>\n",
       "      <td>0.879170</td>\n",
       "      <td>0.879170</td>\n",
       "      <td>0.873109</td>\n",
       "      <td>0.873109</td>\n",
       "      <td>0.873109</td>\n",
       "      <td>0.873109</td>\n",
       "    </tr>\n",
       "    <tr>\n",
       "      <th>0.10</th>\n",
       "      <td>0.879170</td>\n",
       "      <td>0.873109</td>\n",
       "      <td>0.873109</td>\n",
       "      <td>0.873109</td>\n",
       "      <td>0.873109</td>\n",
       "      <td>0.873109</td>\n",
       "      <td>0.873109</td>\n",
       "    </tr>\n",
       "    <tr>\n",
       "      <th>0.20</th>\n",
       "      <td>0.873109</td>\n",
       "      <td>0.873109</td>\n",
       "      <td>0.873109</td>\n",
       "      <td>0.873109</td>\n",
       "      <td>0.873109</td>\n",
       "      <td>0.873109</td>\n",
       "      <td>0.873109</td>\n",
       "    </tr>\n",
       "    <tr>\n",
       "      <th>0.30</th>\n",
       "      <td>0.873109</td>\n",
       "      <td>0.873109</td>\n",
       "      <td>0.873109</td>\n",
       "      <td>0.873109</td>\n",
       "      <td>0.873109</td>\n",
       "      <td>0.873109</td>\n",
       "      <td>0.873109</td>\n",
       "    </tr>\n",
       "    <tr>\n",
       "      <th>0.40</th>\n",
       "      <td>0.873109</td>\n",
       "      <td>0.873109</td>\n",
       "      <td>0.873109</td>\n",
       "      <td>0.873109</td>\n",
       "      <td>0.873109</td>\n",
       "      <td>0.873109</td>\n",
       "      <td>0.873109</td>\n",
       "    </tr>\n",
       "  </tbody>\n",
       "</table>\n",
       "</div>"
      ],
      "text/plain": [
       "           500      1000      1500      2000      2500      3000      3500\n",
       "0.01  0.873109  0.870106  0.870106  0.870106  0.873137  0.873137  0.876140\n",
       "0.05  0.873137  0.879170  0.879170  0.873109  0.873109  0.873109  0.873109\n",
       "0.10  0.879170  0.873109  0.873109  0.873109  0.873109  0.873109  0.873109\n",
       "0.20  0.873109  0.873109  0.873109  0.873109  0.873109  0.873109  0.873109\n",
       "0.30  0.873109  0.873109  0.873109  0.873109  0.873109  0.873109  0.873109\n",
       "0.40  0.873109  0.873109  0.873109  0.873109  0.873109  0.873109  0.873109"
      ]
     },
     "execution_count": 230,
     "metadata": {},
     "output_type": "execute_result"
    }
   ],
   "source": [
    "BusquedaParametros(fold_titanic, 3)"
   ]
  },
  {
   "cell_type": "markdown",
   "metadata": {},
   "source": [
    "# Experimento 2"
   ]
  },
  {
   "cell_type": "code",
   "execution_count": 231,
   "metadata": {},
   "outputs": [],
   "source": [
    "costo_weatherAUS = CalculoParametros(fold_weatherAUS, 3, 2500, 0.20)[1]\n",
    "costo_titanic = CalculoParametros(fold_titanic, 3, 1000, 0.10)[1]"
   ]
  },
  {
   "cell_type": "code",
   "execution_count": 205,
   "metadata": {},
   "outputs": [],
   "source": [
    "def PloteoCurvaCosto (arr, title):       \n",
    "    fig, ax = plt.subplots()\n",
    "    #Ploteo de Curva\n",
    "    scale = 1.0\n",
    "    color = 'tab:blue'\n",
    "    iteraciones = len(arr)\n",
    "    plt.plot(range(0,iteraciones), arr, 'o', linewidth=1, markersize=2 )\n",
    "\n",
    "    plt.title(title, {'fontsize':10})\n",
    "    ax.set(xlim = [-10,iteraciones], ylim = (arr[-1]-0.1,arr[0]))\n",
    "    ax.grid(True)\n",
    "    plt.xlabel('Iteración')\n",
    "    plt.ylabel('Costo')\n",
    "    plt.show()"
   ]
  },
  {
   "cell_type": "code",
   "execution_count": 232,
   "metadata": {},
   "outputs": [
    {
     "data": {
      "image/png": "[encoded data removed]",
      "text/plain": [
       "<Figure size 432x288 with 1 Axes>"
      ]
     },
     "metadata": {
      "needs_background": "light"
     },
     "output_type": "display_data"
    },
    {
     "data": {
      "image/png": "[encoded data removed]",
      "text/plain": [
       "<Figure size 432x288 with 1 Axes>"
      ]
     },
     "metadata": {
      "needs_background": "light"
     },
     "output_type": "display_data"
    },
    {
     "data": {
      "image/png": "[encoded data removed]",
      "text/plain": [
       "<Figure size 432x288 with 1 Axes>"
      ]
     },
     "metadata": {
      "needs_background": "light"
     },
     "output_type": "display_data"
    }
   ],
   "source": [
    "PloteoCurvaCosto(costo_weatherAUS[0], \"weatherAUS\")\n",
    "PloteoCurvaCosto(costo_weatherAUS[1], \"weatherAUS\")\n",
    "PloteoCurvaCosto(costo_weatherAUS[2], \"weatherAUS\")"
   ]
  },
  {
   "cell_type": "code",
   "execution_count": 233,
   "metadata": {},
   "outputs": [
    {
     "data": {
      "image/png": "[encoded data removed]",
      "text/plain": [
       "<Figure size 432x288 with 1 Axes>"
      ]
     },
     "metadata": {
      "needs_background": "light"
     },
     "output_type": "display_data"
    },
    {
     "data": {
      "image/png": "[encoded data removed]",
      "text/plain": [
       "<Figure size 432x288 with 1 Axes>"
      ]
     },
     "metadata": {
      "needs_background": "light"
     },
     "output_type": "display_data"
    },
    {
     "data": {
      "image/png": "[encoded data removed]",
      "text/plain": [
       "<Figure size 432x288 with 1 Axes>"
      ]
     },
     "metadata": {
      "needs_background": "light"
     },
     "output_type": "display_data"
    }
   ],
   "source": [
    "PloteoCurvaCosto(costo_titanic[0], \"Titanic\")\n",
    "PloteoCurvaCosto(costo_titanic[1], \"Titanic\")\n",
    "PloteoCurvaCosto(costo_titanic[2], \"Titanic\")"
   ]
  },
  {
   "cell_type": "markdown",
   "metadata": {},
   "source": [
    "# Experimento 3"
   ]
  },
  {
   "cell_type": "code",
   "execution_count": null,
   "metadata": {},
   "outputs": [],
   "source": []
  }
 ],
 "metadata": {
  "kernelspec": {
   "display_name": "Python 3",
   "language": "python",
   "name": "python3"
  },
  "language_info": {
   "codemirror_mode": {
    "name": "ipython",
    "version": 3
   },
   "file_extension": ".py",
   "mimetype": "text/x-python",
   "name": "python",
   "nbconvert_exporter": "python",
   "pygments_lexer": "ipython3",
   "version": "3.7.6"
  }
 },
 "nbformat": 4,
 "nbformat_minor": 4
}
